{
 "cells": [
  {
   "cell_type": "code",
   "execution_count": null,
   "metadata": {},
   "outputs": [],
   "source": [
    "import xlrd\n",
    "import time\n",
    "import pandas as pd\n",
    "import smtplib\n",
    "import time\n",
    "from email.mime.text import MIMEText\n",
    "from email.mime.multipart import MIMEMultipart\n",
    "from pretty_html_table import build_table"
   ]
  },
  {
   "cell_type": "code",
   "execution_count": null,
   "metadata": {},
   "outputs": [],
   "source": [
    "pathInv = \"testing.xlsx\"\n",
    "openFileInv = pd.read_excel(pathInv, engine='openpyxl', sheet_name='Sheet1').dropna()"
   ]
  },
  {
   "cell_type": "code",
   "execution_count": null,
   "metadata": {},
   "outputs": [],
   "source": [
    "inv_course_nums = openFileInv['Course Code']\n",
    "inv_course_names = openFileInv['Course Title']\n",
    "inv_exam_dates = openFileInv['Date']\n",
    "inv_exam_start = openFileInv['Start Time']\n",
    "inv_exam_end = openFileInv['End Time']\n",
    "ic_names = openFileInv['IC Name']\n",
    "ic_emails = openFileInv['IC Email']\n",
    "inv_names = openFileInv['Invigilator Name']\n",
    "inv_emails = openFileInv['Invigilator Email']\n",
    "\n",
    "# print(inv_course_nums, inv_names, inv_course_names, inv_exam_dates, inv_exam_start, inv_exam_end, ic_names, ic_emails, inv_emails)\n",
    "# print(ic_emails)"
   ]
  },
  {
   "cell_type": "code",
   "execution_count": null,
   "metadata": {},
   "outputs": [],
   "source": [
    "email = \"td@hyderabad.bits-pilani.ac.in\"\n",
    "password = \"\"\n",
    "server = smtplib.SMTP_SSL('smtp.gmail.com', 465)\n",
    "server.ehlo()\n",
    "server.login(email, password)"
   ]
  },
  {
   "cell_type": "code",
   "execution_count": null,
   "metadata": {},
   "outputs": [],
   "source": [
    "i = 0\n",
    "from email.mime.multipart import MIMEMultipart\n",
    "while i < len(ic_emails):\n",
    "    dictn = {\n",
    "        \"Course ID\" : [],\n",
    "        \"Course Name\" : [],\n",
    "        \"Exam Date\" : [],\n",
    "        \"Start Time\" : [],\n",
    "        \"End Time\"  : [],\n",
    "        \"Invigilator Name\" : [],\n",
    "        \"Invigilator Email\" : [],\n",
    "    }\n",
    "    while(i < len(ic_emails) - 1 and ic_emails[i] == ic_emails[i+1]):\n",
    "        dictn[\"Course ID\"].append(inv_course_nums[i])\n",
    "        dictn[\"Course Name\"].append(inv_course_names[i])\n",
    "        dictn[\"Exam Date\"].append(str(inv_exam_dates[i])[0:11])\n",
    "        dictn[\"Start Time\"].append(str(inv_exam_start[i]))\n",
    "        dictn[\"End Time\"].append(str(inv_exam_end[i]))\n",
    "        dictn[\"Invigilator Name\"].append(inv_names[i])\n",
    "        dictn[\"Invigilator Email\"].append(inv_emails[i])\n",
    "        i = i + 1\n",
    "    dictn[\"Course ID\"].append(inv_course_nums[i])\n",
    "    dictn[\"Course Name\"].append(inv_course_names[i])\n",
    "    dictn[\"Exam Date\"].append(str(inv_exam_dates[i])[0:11])\n",
    "    dictn[\"Start Time\"].append(str(inv_exam_start[i]))\n",
    "    dictn[\"End Time\"].append(str(inv_exam_end[i]))\n",
    "    dictn[\"Invigilator Name\"].append(inv_names[i])\n",
    "    dictn[\"Invigilator Email\"].append(inv_emails[i])\n",
    "    data = pd.DataFrame(dictn)\n",
    "    print(data)\n",
    "    print('----------------------------------------------------------')\n",
    "    msg = f'Dear {ic_names[i]} ,\\n\\n' \\\n",
    "        f'Please find below the revised list of invigilator(s) for your respective course(s) during mid semester examination.\\n'\n",
    "    end = f'\\nRegards,\\n' \\\n",
    "        f'FIC, Timetable & Exam\\n' \\\n",
    "        f'Birla Institute of Technology & Science, Pilani\\n' \\\n",
    "        f'Hyderabad Campus\\n' \\\n",
    "        f'Jawahar Nagar, Kapra Mandal\\n' \\\n",
    "        f'Hyderabad 500 078, Telangana, India\\n' \\\n",
    "        f'Phone: +91-40 66303802\\n' \\\n",
    "        f'Email: timetable@hyderabad.bits-pilani.ac.in\\n' \\\n",
    "    \n",
    "    message = MIMEMultipart()\n",
    "    message['Subject'] = 'REVISED: Invigilator List'\n",
    "    message['From'] = email\n",
    "    output = build_table(data, 'blue_light')\n",
    "    body_content = output\n",
    "    message.attach(MIMEText(msg, \"plain\"))\n",
    "    message.attach(MIMEText(body_content, \"html\"))\n",
    "    message.attach(MIMEText(end, \"plain\"))\n",
    "    msg_body = message.as_string()\n",
    "    server.sendmail(email, [ic_emails[i]], msg_body)\n",
    "    print('mail sent ' + str(i))\n",
    "    time.sleep(1)\n",
    "    i = i + 1"
   ]
  },
  {
   "cell_type": "code",
   "execution_count": null,
   "metadata": {},
   "outputs": [],
   "source": []
  }
 ],
 "metadata": {
  "interpreter": {
   "hash": "fe44fef87f92f48a3a32707d0df204585f471652bc0ce87358a3ce712bc24db0"
  },
  "kernelspec": {
   "display_name": "Python 3.9.7 64-bit",
   "name": "python3"
  },
  "language_info": {
   "codemirror_mode": {
    "name": "ipython",
    "version": 3
   },
   "file_extension": ".py",
   "mimetype": "text/x-python",
   "name": "python",
   "nbconvert_exporter": "python",
   "pygments_lexer": "ipython3",
   "version": "3.9.7"
  }
 },
 "nbformat": 4,
 "nbformat_minor": 4
}
